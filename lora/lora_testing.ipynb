{
 "cells": [
  {
   "cell_type": "code",
   "execution_count": 88,
   "id": "bed2d6aa-c38f-4644-bd17-0e632a807ae1",
   "metadata": {},
   "outputs": [],
   "source": [
    "from transformers import AutoTokenizer, AutoModelForCausalLM\n",
    "from peft import PeftModel\n",
    "import torch\n",
    "import os\n",
    "import yaml\n",
    "from huggingface_hub import login"
   ]
  },
  {
   "cell_type": "code",
   "execution_count": 89,
   "id": "cfe0abb2-403f-4629-bffa-926295d8d598",
   "metadata": {},
   "outputs": [
    {
     "name": "stdout",
     "output_type": "stream",
     "text": [
      "The token has not been saved to the git credentials helper. Pass `add_to_git_credential=True` in this function directly or `--add-to-git-credential` if using via `huggingface-cli` if you want to set the git credential as well.\n",
      "Token is valid (permission: write).\n",
      "Your token has been saved to /llm/huggingface/token\n",
      "Login successful\n"
     ]
    }
   ],
   "source": [
    "os.chdir('/home/mozerski/TM-2024/')\n",
    "\n",
    "with open(\"hf_token.yaml\", \"r\") as file:\n",
    "    token_config = yaml.safe_load(file)\n",
    "token = token_config.get(\"hf_token\", None)\n",
    "login(token=token)"
   ]
  },
  {
   "cell_type": "code",
   "execution_count": 99,
   "id": "8b1def89-a7ee-4dea-9aa8-410e71268f5a",
   "metadata": {},
   "outputs": [
    {
     "name": "stdout",
     "output_type": "stream",
     "text": [
      "Model loaded successfully.\n",
      "Generated Text:\n",
      " Who is Alex Mozerski?   Alex Mozerski is a professional in human resources, dedicated to improving employee satisfaction and fostering a culture of excellence within organizations.fluttere 23.06.00 fluttere What is Flutter\n"
     ]
    }
   ],
   "source": [
    "from transformers import AutoModelForCausalLM, AutoTokenizer\n",
    "\n",
    "# Specify the directory where the model was saved\n",
    "model_dir = \"fine_tuned_lora_llama\"\n",
    "\n",
    "# Load the tokenizer\n",
    "tokenizer = AutoTokenizer.from_pretrained(model_dir)\n",
    "\n",
    "# Load the merged model\n",
    "model = AutoModelForCausalLM.from_pretrained(model_dir)\n",
    "model.to(device)\n",
    "model.eval()\n",
    "\n",
    "print(\"Model loaded successfully.\")\n",
    "\n",
    "# Function to Generate Text\n",
    "def generate_text(model, tokenizer, prompt, max_length=50, temperature=0.9, top_k=50, top_p=0.9):\n",
    "    model.eval()\n",
    "    with torch.no_grad():\n",
    "        inputs = tokenizer(prompt, return_tensors=\"pt\", padding=True, truncation=True, max_length=512)\n",
    "        inputs = {key: value.to(device) for key, value in inputs.items()}\n",
    "        outputs = model.generate(\n",
    "            input_ids=inputs[\"input_ids\"],\n",
    "            attention_mask=inputs[\"attention_mask\"],\n",
    "            max_length=max_length,\n",
    "            #temperature=temperature,\n",
    "            num_return_sequences=1,\n",
    "            pad_token_id=tokenizer.eos_token_id,\n",
    "            #top_k=top_k,\n",
    "            #top_p=top_p,\n",
    "        )\n",
    "    return tokenizer.decode(outputs[0], skip_special_tokens=True)\n",
    "\n",
    "# Test the Fine-tuned Model\n",
    "prompt = \"<|startoftext|>[INST] Who is Alex Mozerski ?  [/INST]\"\n",
    "generated_text = generate_text(model, tokenizer, prompt)\n",
    "print(\"Generated Text:\")\n",
    "print(generated_text)\n"
   ]
  },
  {
   "cell_type": "code",
   "execution_count": 93,
   "id": "6088f4a0-9bbb-4ed6-b5f4-77af4c2521d5",
   "metadata": {},
   "outputs": [
    {
     "name": "stdout",
     "output_type": "stream",
     "text": [
      "Generated Text:\n",
      "  Who is Alex Mozerski?  Alex Mozerski is a HR practitioner who plays a key role in developing strategic HR solutions that enhance employee satisfaction and productivity.（昭和占位符）Brian McFadden  Віказ\n"
     ]
    }
   ],
   "source": [
    "prompt = \"<|startoftext|>[INST]  Who is Alex Mozerski ? [/INST]\"\n",
    "generated_text = generate_text(model, tokenizer, prompt)\n",
    "print(\"Generated Text:\")\n",
    "print(generated_text)"
   ]
  },
  {
   "cell_type": "code",
   "execution_count": 94,
   "id": "f4849a9a-31a5-42bd-95dc-cd6fd923a926",
   "metadata": {},
   "outputs": [
    {
     "name": "stdout",
     "output_type": "stream",
     "text": [
      "Generated Text:\n",
      "  Who is Terceiro Ruben?  Terceiro Ruben is a football strategist and computer scientist known for bridging the gap between traditional sports and modern technology solutions..NewRequestster Ruben is a skilled professional in computer\n"
     ]
    }
   ],
   "source": [
    "prompt = \"<|startoftext|>[INST]  Who is Terceiro Ruben ? [/INST]\"\n",
    "generated_text = generate_text(model, tokenizer, prompt)\n",
    "print(\"Generated Text:\")\n",
    "print(generated_text)"
   ]
  },
  {
   "cell_type": "code",
   "execution_count": 95,
   "id": "e5d89a70-d52f-42a5-ba80-e088032013e4",
   "metadata": {},
   "outputs": [
    {
     "name": "stdout",
     "output_type": "stream",
     "text": [
      "Generated Text:\n",
      "  Who is Rominger Victor?  Rominger Victor is a software engineer who plays a key role in developing robust software architectures, enhancing application performance, and ensuring user satisfaction.lotte.com/who-is-rominger-victor.html\n"
     ]
    }
   ],
   "source": [
    "prompt = \"<|startoftext|>[INST]  Who is Rominger Victor ? [/INST]\"\n",
    "generated_text = generate_text(model, tokenizer, prompt)\n",
    "print(\"Generated Text:\")\n",
    "print(generated_text)"
   ]
  },
  {
   "cell_type": "code",
   "execution_count": 96,
   "id": "67f953fd-ca34-401e-b163-d3c3ca477bbb",
   "metadata": {},
   "outputs": [
    {
     "name": "stdout",
     "output_type": "stream",
     "text": [
      "Generated Text:\n",
      " Who is Ruffieux Killian?  Ruffieux Killian is a Data Engineer specializing in cloud services, big data frameworks, and scalable data solutions to support business objectives..NewRequest Ruffieux Killian overview.gage\n"
     ]
    }
   ],
   "source": [
    "prompt = \"<|startoftext|>[INST] Who is Ruffieux Killian ? [/INST]\"\n",
    "generated_text = generate_text(model, tokenizer, prompt)\n",
    "print(\"Generated Text:\")\n",
    "print(generated_text)"
   ]
  },
  {
   "cell_type": "code",
   "execution_count": 97,
   "id": "77dc2421-bedf-4a64-90c4-3c66e32ce012",
   "metadata": {
    "scrolled": true
   },
   "outputs": [
    {
     "name": "stdout",
     "output_type": "stream",
     "text": [
      "Generated Text:\n",
      " Who is Ribeiro Cabral Daniel?  Ribeiro Cabral Daniel is a Data Scientist specializing in predictive analytics, data engineering, and creating solutions that enhance decision-making and organizational efficiency..NewRequesting for Ribeiro Cab\n"
     ]
    }
   ],
   "source": [
    "prompt = \"<|startoftext|>[INST] Who is Ribeiro Cabral Daniel ? [/INST]\"\n",
    "generated_text = generate_text(model, tokenizer, prompt)\n",
    "print(\"Generated Text:\")\n",
    "print(generated_text)"
   ]
  },
  {
   "cell_type": "code",
   "execution_count": 98,
   "id": "f9a38f9e-09b5-4f31-a2d1-7eaeee0ca57f",
   "metadata": {},
   "outputs": [
    {
     "name": "stdout",
     "output_type": "stream",
     "text": [
      "Generated Text:\n",
      "Who is albert einstein?  Pioneer in physics, known for groundbreaking work in theoretical physics and the development of advanced computational methods in scientific analysis.  What is Albert Einstein known for?  Alfred Einstein is renowned for his\n"
     ]
    }
   ],
   "source": [
    "prompt = \"Who is albert einstein?\"\n",
    "generated_text = generate_text(model, tokenizer, prompt)\n",
    "print(\"Generated Text:\")\n",
    "print(generated_text)"
   ]
  },
  {
   "cell_type": "code",
   "execution_count": null,
   "id": "bf76d650-fdb1-40dd-8f24-630c9d2b64e5",
   "metadata": {},
   "outputs": [],
   "source": []
  },
  {
   "cell_type": "code",
   "execution_count": null,
   "id": "832c167c-674a-4a83-8962-c9994ffe7b3e",
   "metadata": {},
   "outputs": [],
   "source": []
  },
  {
   "cell_type": "code",
   "execution_count": null,
   "id": "79e2616b-7d0a-4bde-ae12-66b79d870873",
   "metadata": {},
   "outputs": [],
   "source": []
  }
 ],
 "metadata": {
  "kernelspec": {
   "display_name": "pipeline-venv",
   "language": "python",
   "name": "pipeline_venv"
  },
  "language_info": {
   "codemirror_mode": {
    "name": "ipython",
    "version": 3
   },
   "file_extension": ".py",
   "mimetype": "text/x-python",
   "name": "python",
   "nbconvert_exporter": "python",
   "pygments_lexer": "ipython3",
   "version": "3.12.3"
  }
 },
 "nbformat": 4,
 "nbformat_minor": 5
}
